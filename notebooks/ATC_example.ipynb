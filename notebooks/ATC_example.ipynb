{
 "cells": [
  {
   "cell_type": "code",
   "execution_count": null,
   "metadata": {},
   "outputs": [],
   "source": [
    "import torch \n",
    "\n",
    "import numpy as np\n",
    "\n",
    "from model_helper import *\n",
    "from data_helper import *\n",
    "from ATC_helper import *\n",
    "from predict_acc_helper import *\n",
    "from calibration import *\n",
    "\n",
    "# Directory with datasets. Refer to README.md to setup the data directory.\n",
    "data_dir = \"path/to/data/directory\"\n",
    "data = \"CIFAR\"\n",
    "batch_size = 200 \n",
    "net_type = \"ResNet18\"\n",
    "\n",
    "# Directory with trained model. Refer to README.md to train a model.\n",
    "model_checkpoint = \"path/to/model/checkpoint\"\n",
    "\n",
    "device = \"cuda\" if torch.cuda.is_available() else \"cpu\"\n",
    "\n",
    "## Load Dataset \n",
    "_, _, _ , testloaders = get_data(data_dir, data, batch_size, net_type)\n",
    "\n",
    "\n",
    "net = get_net(net_type, data)\n",
    "net = net.to(device)\n",
    "\n",
    "net.load_state_dict(torch.load(model_checkpoint))\n",
    "\n",
    "## Get ID validation data probs and labels \n",
    "val_probs, val_labels = save_probs(net, testloaders[0], device)\n",
    "\n",
    "# Optional calibration \n",
    "calibrator = TempScaling()\n",
    "calibrator.fit(val_probs, val_labels)\n",
    "val_probs = calibrator.calibrate(val_probs)\n",
    "\n",
    "\n",
    "## Get ID test data probs. Test labels to get true accuracy\n",
    "test_probs, test_labels = save_probs(net, testloaders[1], device)\n",
    "test_probs = calibrator.calibrate(test_probs)\n",
    "\n",
    "## score function, e.g., negative entropy or argmax confidence \n",
    "val_scores = get_entropy(val_probs)\n",
    "val_preds = np.argmax(val_probs ,axis=1)\n",
    "\n",
    "test_scores = get_entropy(test_probs)\n",
    "\n",
    "ATC_thres = find_ATC_threshold(val_scores, val_labels==val_preds)\n",
    "ATC_accuracy = get_ATC_acc(ATC_thres, test_scores)\n",
    "\n",
    "print(f\"True Accuracy {100*np.mean(np.argmax(test_probs, axis=-1) == test_labels)}\")\n",
    "print(f\"ATC predicted accuracy {ATC_accuracy}\")\n",
    "\n",
    "\n"
   ]
  }
 ],
 "metadata": {
  "kernelspec": {
   "display_name": "Python 3 (ipykernel)",
   "language": "python",
   "name": "python3"
  },
  "language_info": {
   "codemirror_mode": {
    "name": "ipython",
    "version": 3
   },
   "file_extension": ".py",
   "mimetype": "text/x-python",
   "name": "python",
   "nbconvert_exporter": "python",
   "pygments_lexer": "ipython3",
   "version": "3.10.4"
  }
 },
 "nbformat": 4,
 "nbformat_minor": 4
}
