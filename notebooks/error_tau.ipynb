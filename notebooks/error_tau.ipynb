{
 "cells": [
  {
   "cell_type": "code",
   "execution_count": 31,
   "id": "54673fb2-23be-4c32-843d-bd2b0da46918",
   "metadata": {},
   "outputs": [
    {
     "name": "stdout",
     "output_type": "stream",
     "text": [
      "99\n",
      "$18.13$ &$20.29$ &\n"
     ]
    }
   ],
   "source": [
    "import numpy as np\n",
    "\n",
    "filename = \"outputs/nonliving26/DenseNet121_0.1_0.0001_0.9_SGD_450_1111/predicted_acc_T_fit_robust/420.csv\"\n",
    "# filename = \"outputs/nonliving26/ResNet50_0.1_0.0001_0.9_SGD_450_1111/predicted_acc_T_4/420.csv\"\n",
    "# filename = \"outputs/entity30/ResNet50_0.1_0.0001_0.9_SGD_300_1111/predicted_acc_T_4/270.csv\"\n",
    "# filename = \"outputs/entity13/ResNet50_0.1_0.0001_0.9_SGD_300_1111/predicted_acc_T_4/270.csv\"\n",
    "    \n",
    "xx = None\n",
    "\n",
    "with open(filename, \"r\") as f: \n",
    "    count = 0\n",
    "    f.readline()\n",
    "    for i, line in enumerate(f):\n",
    "        x = []\n",
    "        \n",
    "#         if i >= 3 :\n",
    "#             continue\n",
    "#             break\n",
    "        \n",
    "#         if (i > 1 and i <= 101): \n",
    "#             pass\n",
    "#         else: \n",
    "#             continue\n",
    "            \n",
    "        if (i > 1 and i <= 101): \n",
    "            continue\n",
    "        else: \n",
    "            pass\n",
    "            \n",
    "        count += 1 \n",
    "            \n",
    "        vals = line.rstrip().split(\",\")\n",
    "        vals = [float(v) for v in vals]\n",
    "        \n",
    "    \n",
    "#         x.append( np.abs(vals[0] - vals[18]) ) \n",
    "#         x.append( np.abs(vals[0] - vals[19]) ) \n",
    "#         x.append( np.abs(vals[0] - vals[14]) ) \n",
    "#         x.append( np.abs(vals[0] - vals[15]) ) \n",
    "#         x.append( np.abs(vals[0] - vals[16]) ) \n",
    "        x.append( np.abs(vals[0] - vals[17]) ) \n",
    "#         x.append( np.abs(vals[0] - vals[20]) ) \n",
    "#         x.append( np.abs(vals[0] - vals[6]) ) \n",
    "#         x.append( np.abs(vals[0] - vals[10]) ) \n",
    "#         x.append( np.abs(vals[0] - vals[8]) ) \n",
    "        x.append( np.abs(vals[0] - vals[12]) ) \n",
    "        \n",
    "#         x.append( np.abs(vals[0] - vals[20]) ) \n",
    "#         x.append( np.abs(vals[0] - vals[21]) ) \n",
    "#         x.append( np.abs(vals[0] - vals[16]) ) \n",
    "#         x.append( np.abs(vals[0] - vals[17]) ) \n",
    "#         x.append( np.abs(vals[0] - vals[18]) ) \n",
    "#         x.append( np.abs(vals[0] - vals[19]) ) \n",
    "#         x.append( np.abs(vals[0] - vals[22]) ) \n",
    "#         x.append( np.abs(vals[0] - vals[6]) ) \n",
    "#         x.append( np.abs(vals[0] - vals[10]) ) \n",
    "#         x.append( np.abs(vals[0] - vals[8]) ) \n",
    "#         x.append( np.abs(vals[0] - vals[12]) ) \n",
    "        if xx is None: \n",
    "            xx = np.array(x)\n",
    "        else: \n",
    "            xx += x\n",
    "             \n",
    "xx = xx/ (count) \n",
    "print(count)\n",
    "str_arr = \"\"\n",
    "for val in xx: \n",
    "    str_arr += \"${:.2f}$ &\".format(val)\n",
    "print(str_arr)"
   ]
  },
  {
   "cell_type": "code",
   "execution_count": 78,
   "id": "77fe7bab-bd61-470d-b7a7-5f869c5f7eca",
   "metadata": {},
   "outputs": [
    {
     "name": "stdout",
     "output_type": "stream",
     "text": [
      "$0.947$ &$0.948$ &$0.949$ &$0.946$ &$0.935$ &$0.943$ &$0.935$ &$0.943$ &$0.904$ &$0.951$ &$0.924$ &\n"
     ]
    }
   ],
   "source": [
    "import numpy as np\n",
    "\n",
    "def get_coeff(true_arr, pred_arr): \n",
    "    sorted_idx = np.argsort(true_arr)\n",
    "    true_arr = true_arr [sorted_idx]\n",
    "    pred_arr = pred_arr [sorted_idx]\n",
    "    flips = 0\n",
    "    n = len(true_arr)\n",
    "    for i in range(len(pred_arr)): \n",
    "        for j in range(i+1, len(pred_arr)): \n",
    "            if pred_arr[i] > pred_arr[j] : \n",
    "                flips +=1 \t\n",
    "\n",
    "\n",
    "    return 1 - 2*2.0*flips/n/(n-1)\n",
    "\n",
    "dataset = \"CIFAR\"\n",
    "\n",
    "\n",
    "filename = \"outputs/ImageNet-200//predicted_acc/\"\n",
    "\n",
    "xx = []\n",
    "yy = []\n",
    "\n",
    "with open(filename, \"r\") as f: \n",
    "    count = 0\n",
    "    for line in f:\n",
    "        x = []\n",
    "        y = []\n",
    "        count += 1 \n",
    "        \n",
    "        vals = line.rstrip().split(\",\")\n",
    "        vals = [float(v) for v in vals]\n",
    "        \n",
    "        x.append( vals[6]) \n",
    "        x.append( vals[8]) \n",
    "        x.append( vals[10]) \n",
    "        x.append( vals[12]) \n",
    "        x.append( vals[16]) \n",
    "        x.append( vals[17]) \n",
    "        x.append( vals[18]) \n",
    "        x.append( vals[19]) \n",
    "        x.append( vals[20]) \n",
    "        x.append( vals[21]) \n",
    "        x.append( vals[22]) \n",
    "\n",
    "        y.append(vals[0])\n",
    "        y.append(vals[1])\n",
    "\n",
    "        xx.append(x)\n",
    "        yy.append(y)\n",
    "\n",
    "yy = np.array(yy)        \n",
    "xx = np.array(xx)        \n",
    "\n",
    "tau = []\n",
    "for i in range(0,len(xx[0])):\n",
    "    if i%2 == 0:\n",
    "        tau.append(get_coeff(np.copy(xx[:,i]), np.copy(yy[:,0])))\n",
    "    else: \n",
    "        tau.append(get_coeff(np.copy(xx[:,i]), np.copy(yy[:,1])))\n",
    "        \n",
    "str_arr = \"\"\n",
    "for val in tau: \n",
    "    str_arr += \"${:.3f}$ &\".format(val)\n",
    "print(str_arr)"
   ]
  },
  {
   "cell_type": "code",
   "execution_count": 20,
   "id": "bf693b89-1d4e-4990-9f0a-5d155adca672",
   "metadata": {},
   "outputs": [
    {
     "name": "stdout",
     "output_type": "stream",
     "text": [
      "[92.9023 89.1818 88.4509]\n",
      "[92.8993 84.2883 71.3147]\n"
     ]
    }
   ],
   "source": [
    "print(xx[:,0])\n",
    "print(yy[:,0])"
   ]
  },
  {
   "cell_type": "code",
   "execution_count": null,
   "id": "99a91e05-9c9a-4eac-a434-17bee1ed9afb",
   "metadata": {},
   "outputs": [],
   "source": []
  }
 ],
 "metadata": {
  "kernelspec": {
   "display_name": "Python 3",
   "language": "python",
   "name": "python3"
  },
  "language_info": {
   "codemirror_mode": {
    "name": "ipython",
    "version": 3
   },
   "file_extension": ".py",
   "mimetype": "text/x-python",
   "name": "python",
   "nbconvert_exporter": "python",
   "pygments_lexer": "ipython3",
   "version": "3.7.7"
  }
 },
 "nbformat": 4,
 "nbformat_minor": 5
}
