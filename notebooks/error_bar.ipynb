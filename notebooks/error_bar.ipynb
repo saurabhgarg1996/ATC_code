{
 "cells": [
  {
   "cell_type": "code",
   "execution_count": 14,
   "id": "899e1679-a410-46c6-8034-fe2428aa59fd",
   "metadata": {},
   "outputs": [
    {
     "name": "stderr",
     "output_type": "stream",
     "text": [
      "<ipython-input-14-58249d319a9c>:4: MatplotlibDeprecationWarning: Support for setting the 'text.latex.preamble' or 'pgf.preamble' rcParam to a list of strings is deprecated since 3.3 and will be removed two minor releases later; set it to a single string instead.\n",
      "  plt.rcParams['text.latex.preamble'] = [r'\\usepackage{sansmath}', r'\\sansmath'] #Force sans-serif math mode (for axes labels)\n"
     ]
    }
   ],
   "source": [
    "import matplotlib.pyplot as plt \n",
    "\n",
    "plt.rcParams['text.usetex'] = True #Let TeX do the typsetting\n",
    "plt.rcParams['text.latex.preamble'] = [r'\\usepackage{sansmath}', r'\\sansmath'] #Force sans-serif math mode (for axes labels)\n",
    "plt.rcParams['font.family'] = 'sans-serif' # ... for regular text\n",
    "plt.rcParams['font.sans-serif'] = 'Helvetica, Avant Garde, Computer Modern Sans serif' # Choose a nice font here\n",
    "\n",
    "\n",
    "import seaborn as sns\n",
    "# import pandas as pd \n",
    "import numpy as np\n",
    "\n",
    "sns.set_style(\"whitegrid\")\n",
    "\n",
    "# Tableau 20 Colors\n",
    "tableau20 = [(31, 119, 180), (174, 199, 232), (255, 127, 14), (255, 187, 120),  \n",
    "             (44, 160, 44), (152, 223, 138), (214, 39, 40), (255, 152, 150),  \n",
    "             (148, 103, 189), (197, 176, 213), (140, 86, 75), (196, 156, 148),  \n",
    "             (227, 119, 194), (247, 182, 210), (127, 127, 127), (199, 199, 199),  \n",
    "             (188, 189, 34), (219, 219, 141), (23, 190, 207), (158, 218, 229)]\n",
    "             \n",
    "# Tableau Color Blind 10\n",
    "tableau20blind = [(0, 107, 164), (255, 128, 14), (171, 171, 171), (89, 89, 89),\n",
    "             (95, 158, 209), (200, 82, 0), (137, 137, 137), (163, 200, 236),\n",
    "             (255, 188, 121), (207, 207, 207)]\n",
    "  \n",
    "# Rescale to values between 0 and 1 \n",
    "for i in range(len(tableau20)):  \n",
    "    r, g, b = tableau20[i]  \n",
    "    tableau20[i] = (r / 255., g / 255., b / 255.)\n",
    "    \n",
    "for i in range(len(tableau20blind)):  \n",
    "    r, g, b = tableau20blind[i]  \n",
    "    tableau20blind[i] = (r / 255., g / 255., b / 255.)\n",
    "\n",
    "markers = ['+', 'x', '.', 'o', 'v', '^', '<', '>', '1', '2', '3', '4', '8', 's', 'p', '*', 'h', 'H', 'D', 'd', '|', '_', 'P', 'X', 0, 1, 2, 3, 4, 5, 6, 7, 8, 9, 10, 11 ]\n",
    "\n",
    "patterns = ('-', '+', 'x', '\\\\', '*', 'o', 'O', '.', '/')\n",
    "\n",
    "def get_bar_plot(xx,zz, labels, name, fc = 20,): \n",
    "    \n",
    "    x_pos = np.arange(1)*3\n",
    "    width = 0.4\n",
    "    plots_1 = []\n",
    "    fig,ax = plt.subplots()\n",
    "#     fig.set_figheight(5)\n",
    "#     fig.set_figwidth(7)\n",
    "    for i, x in enumerate(xx):\n",
    "        plots_1.append(ax.bar(x_pos+ width*(i-len(x)//2), x, width-0.1, edgecolor='black', color= tableau20blind[i], hatch=patterns[i], label=labels[i]))\n",
    "    \n",
    "    ax.set_ylabel('Average Error Gap',fontsize=fc+5)\n",
    "#     ax.set_xlabel('Methods',fontsize=fc)\n",
    "    ax.set_xticks(x_pos -width*len(x)//2)\n",
    "    ax.set_xticklabels(\" \", fontsize=fc)\n",
    "#     ax2 = ax.twinx()\n",
    "#     plots_2 = []\n",
    "#     for i, x in enumerate(zz):\n",
    "#         plots_2.append(ax2.plot(yy, x, linestyle='--', color= tableau20blind[i], marker=markers[i]))\n",
    "    \n",
    "#     ax2.set_ylabel('Calib Error', fontsize=fc)\n",
    "    \n",
    "    ax.legend(fontsize=fc-3)\n",
    "    ax.tick_params(labelsize=fc+5)\n",
    "#     ax2.tick_params(labelsize=fc)\n",
    "#     ax.tick_params(labelsize=fc)\n",
    "#     plt.ylim(0,10)\n",
    "    plt.savefig(\"figures/\" + name, transparent=True, bbox_inches='tight')\n",
    "    plt.show()\n",
    "    \n",
    "    \n"
   ]
  },
  {
   "cell_type": "code",
   "execution_count": 16,
   "id": "bd33defd-30b2-406c-9c95-259da5e53bf7",
   "metadata": {},
   "outputs": [
    {
     "name": "stdout",
     "output_type": "stream",
     "text": [
      "100\n",
      "(1, 5)\n"
     ]
    },
    {
     "data": {
      "image/png": "[encoded data removed]",
      "text/plain": [
       "<Figure size 432x288 with 1 Axes>"
      ]
     },
     "metadata": {},
     "output_type": "display_data"
    }
   ],
   "source": [
    "filename = \"outputs/ImageNet-200/DenseNet121_0.0001_0.0_0.0_Adam_50_1111/predicted_acc_T_3/45.csv\"\n",
    "# start_epoch = 420\n",
    "# gap_epoch = 30\n",
    "# end_epoch = 450\n",
    "# epochs = [epoch for epoch in range(start_epoch, end_epoch, gap_epoch)]\n",
    "\n",
    "\n",
    "xx = []\n",
    "zz = []\n",
    "\n",
    "# for epoch in epochs:\n",
    "x = [0.0, 0.0, 0.0, 0.0, 0.0]\n",
    "y = [0.0, 0.0]\n",
    "with open(filename , \"r\") as f: \n",
    "    count = 0\n",
    "    lines = f.readlines()\n",
    "    for i,line in enumerate(lines):\n",
    "#         if i > 102 or i <1: continue\n",
    "#         if i <= 102 and i >=1: continue\n",
    "        vals = line.rstrip().split(\",\")\n",
    "        vals = [float(v) for v in vals]\n",
    "# \n",
    "        x[3] += np.abs(vals[0] - vals[20])\n",
    "        x[4] += np.abs(vals[0] - vals[12])\n",
    "#         x[5] += np.abs(vals[1] - vals[12])\n",
    "        x[0] += np.abs(vals[0] - vals[19])\n",
    "        x[1] += np.abs(vals[0] - vals[15])\n",
    "        x[2] += np.abs(vals[0] - vals[17])\n",
    "        y[0] += np.abs(vals[2])\n",
    "        y[1] += np.abs(vals[4])\n",
    "        count +=1 \n",
    "    x = np.array(x)/count\n",
    "    y = np.array(y)/count\n",
    "    print(count)\n",
    "    xx.append(x)\n",
    "    zz.append(y)\n",
    "\n",
    "xx = np.array(xx)\n",
    "zz = np.array(zz)\n",
    "\n",
    "print(xx.shape)\n",
    "get_bar_plot(xx.T, zz.T, labels=[\"IM\", \"AC\", \"DOC\", \"GDE\", \"ATC (Our)\"], name=\"intro_1b.pdf\")"
   ]
  },
  {
   "cell_type": "code",
   "execution_count": 4,
   "id": "32c2b263-0ab5-4bd6-98ce-76f3b2525803",
   "metadata": {},
   "outputs": [
    {
     "ename": "IndexError",
     "evalue": "index 5 is out of bounds for axis 0 with size 5",
     "output_type": "error",
     "traceback": [
      "\u001b[0;31m---------------------------------------------------------------------------\u001b[0m",
      "\u001b[0;31mIndexError\u001b[0m                                Traceback (most recent call last)",
      "\u001b[0;32m<ipython-input-4-6a88426fbb4a>\u001b[0m in \u001b[0;36m<module>\u001b[0;34m\u001b[0m\n\u001b[1;32m     23\u001b[0m \u001b[0;31m#         x[3] += np.abs(vals[1] - vals[20])\u001b[0m\u001b[0;34m\u001b[0m\u001b[0;34m\u001b[0m\u001b[0m\n\u001b[1;32m     24\u001b[0m         \u001b[0mx\u001b[0m\u001b[0;34m[\u001b[0m\u001b[0;36m4\u001b[0m\u001b[0;34m]\u001b[0m \u001b[0;34m+=\u001b[0m \u001b[0mnp\u001b[0m\u001b[0;34m.\u001b[0m\u001b[0mabs\u001b[0m\u001b[0;34m(\u001b[0m\u001b[0mvals\u001b[0m\u001b[0;34m[\u001b[0m\u001b[0;36m1\u001b[0m\u001b[0;34m]\u001b[0m \u001b[0;34m-\u001b[0m \u001b[0mvals\u001b[0m\u001b[0;34m[\u001b[0m\u001b[0;36m10\u001b[0m\u001b[0;34m]\u001b[0m\u001b[0;34m)\u001b[0m\u001b[0;34m\u001b[0m\u001b[0;34m\u001b[0m\u001b[0m\n\u001b[0;32m---> 25\u001b[0;31m         \u001b[0mx\u001b[0m\u001b[0;34m[\u001b[0m\u001b[0;36m5\u001b[0m\u001b[0;34m]\u001b[0m \u001b[0;34m+=\u001b[0m \u001b[0mnp\u001b[0m\u001b[0;34m.\u001b[0m\u001b[0mabs\u001b[0m\u001b[0;34m(\u001b[0m\u001b[0mvals\u001b[0m\u001b[0;34m[\u001b[0m\u001b[0;36m1\u001b[0m\u001b[0;34m]\u001b[0m \u001b[0;34m-\u001b[0m \u001b[0mvals\u001b[0m\u001b[0;34m[\u001b[0m\u001b[0;36m12\u001b[0m\u001b[0;34m]\u001b[0m\u001b[0;34m)\u001b[0m\u001b[0;34m\u001b[0m\u001b[0;34m\u001b[0m\u001b[0m\n\u001b[0m\u001b[1;32m     26\u001b[0m         \u001b[0mx\u001b[0m\u001b[0;34m[\u001b[0m\u001b[0;36m0\u001b[0m\u001b[0;34m]\u001b[0m \u001b[0;34m+=\u001b[0m \u001b[0mnp\u001b[0m\u001b[0;34m.\u001b[0m\u001b[0mabs\u001b[0m\u001b[0;34m(\u001b[0m\u001b[0mvals\u001b[0m\u001b[0;34m[\u001b[0m\u001b[0;36m1\u001b[0m\u001b[0;34m]\u001b[0m \u001b[0;34m-\u001b[0m \u001b[0mvals\u001b[0m\u001b[0;34m[\u001b[0m\u001b[0;36m19\u001b[0m\u001b[0;34m]\u001b[0m\u001b[0;34m)\u001b[0m\u001b[0;34m\u001b[0m\u001b[0;34m\u001b[0m\u001b[0m\n\u001b[1;32m     27\u001b[0m         \u001b[0mx\u001b[0m\u001b[0;34m[\u001b[0m\u001b[0;36m1\u001b[0m\u001b[0;34m]\u001b[0m \u001b[0;34m+=\u001b[0m \u001b[0mnp\u001b[0m\u001b[0;34m.\u001b[0m\u001b[0mabs\u001b[0m\u001b[0;34m(\u001b[0m\u001b[0mvals\u001b[0m\u001b[0;34m[\u001b[0m\u001b[0;36m1\u001b[0m\u001b[0;34m]\u001b[0m \u001b[0;34m-\u001b[0m \u001b[0mvals\u001b[0m\u001b[0;34m[\u001b[0m\u001b[0;36m15\u001b[0m\u001b[0;34m]\u001b[0m\u001b[0;34m)\u001b[0m\u001b[0;34m\u001b[0m\u001b[0;34m\u001b[0m\u001b[0m\n",
      "\u001b[0;31mIndexError\u001b[0m: index 5 is out of bounds for axis 0 with size 5"
     ]
    }
   ],
   "source": [
    "filename = \"outputs/entity30/DenseNet121_0.1_0.0001_0.9_SGD_300_1111/predicted_acc_T_fit/270.csv\"\n",
    "# start_epoch = 420\n",
    "# gap_epoch = 30\n",
    "# end_epoch = 450\n",
    "# epochs = [epoch for epoch in range(start_epoch, end_epoch, gap_epoch)]\n",
    "\n",
    "\n",
    "xx = []\n",
    "zz = []\n",
    "\n",
    "# for epoch in epochs:\n",
    "#     x = [0.0, 0.0, 0.0, 0.0, 0.0, 0.0]\n",
    "#     y = [0.0, 0.0]\n",
    "with open(filename , \"r\") as f: \n",
    "    count = 0\n",
    "    lines = f.readlines()\n",
    "    for i,line in enumerate(lines):\n",
    "        if i > 102 or i <1: continue\n",
    "#         if i <= 102 and i >=1: continue\n",
    "        vals = line.rstrip().split(\",\")\n",
    "        vals = [float(v) for v in vals]\n",
    "# \n",
    "#         x[3] += np.abs(vals[1] - vals[20])\n",
    "        x[4] += np.abs(vals[1] - vals[10])\n",
    "        x[5] += np.abs(vals[1] - vals[12])\n",
    "        x[0] += np.abs(vals[1] - vals[19])\n",
    "        x[1] += np.abs(vals[1] - vals[15])\n",
    "        x[2] += np.abs(vals[1] - vals[17])\n",
    "        y[0] += np.abs(vals[2])\n",
    "        y[1] += np.abs(vals[4])\n",
    "        count +=1 \n",
    "    x = np.array(x)/count\n",
    "    y = np.array(y)/count\n",
    "    print(count)\n",
    "    xx.append(x)\n",
    "    zz.append(y)\n",
    "\n",
    "xx = np.array(xx)\n",
    "zz = np.array(zz)\n",
    "\n",
    "print(xx.shape)\n",
    "get_bar_plot(xx.T, zz.T, epochs, labels=[\"IM\", \"AC\", \"DOC\", \"GDE\", \"ATC (Max Conf)\", \"ATC (Entropy)\"], name=\"ImageNet200_DenseNet121_bar.pdf\")"
   ]
  },
  {
   "cell_type": "code",
   "execution_count": null,
   "id": "d32e8503-cf15-4829-a486-5796638bb49f",
   "metadata": {},
   "outputs": [],
   "source": []
  },
  {
   "cell_type": "code",
   "execution_count": null,
   "id": "e15b812c-0895-411e-b876-6328b312ff43",
   "metadata": {},
   "outputs": [],
   "source": []
  }
 ],
 "metadata": {
  "kernelspec": {
   "display_name": "Python 3",
   "language": "python",
   "name": "python3"
  },
  "language_info": {
   "codemirror_mode": {
    "name": "ipython",
    "version": 3
   },
   "file_extension": ".py",
   "mimetype": "text/x-python",
   "name": "python",
   "nbconvert_exporter": "python",
   "pygments_lexer": "ipython3",
   "version": "3.7.7"
  }
 },
 "nbformat": 4,
 "nbformat_minor": 5
}
